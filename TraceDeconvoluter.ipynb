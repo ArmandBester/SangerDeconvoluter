{
 "cells": [
  {
   "cell_type": "markdown",
   "metadata": {},
   "source": [
    "### A jupyter notebook for analysing mixed sanger data files\n",
    "\n",
    "#### Exploring the use of python to extract secondary sequences from mixed ab1 files"
   ]
  },
  {
   "cell_type": "code",
   "execution_count": null,
   "metadata": {},
   "outputs": [],
   "source": [
    "from Bio import SeqIO\n",
    "import os\n",
    "from matplotlib import pyplot as plt\n",
    "import pandas as pd\n",
    "import numpy as np\n",
    "import subprocess"
   ]
  },
  {
   "cell_type": "code",
   "execution_count": null,
   "metadata": {},
   "outputs": [],
   "source": [
    "%matplotlib notebook"
   ]
  },
  {
   "cell_type": "markdown",
   "metadata": {},
   "source": [
    "#### Set you abi folder path\n",
    "<br>\n",
    "Make sure you file are named appropreately, name-R and name-F"
   ]
  },
  {
   "cell_type": "code",
   "execution_count": null,
   "metadata": {},
   "outputs": [],
   "source": [
    "ab1Folder = 'ab1/'"
   ]
  },
  {
   "cell_type": "code",
   "execution_count": null,
   "metadata": {},
   "outputs": [],
   "source": [
    "ab1List = []\n",
    "ab1PairDict = {}\n",
    "keyList = []\n",
    "traceSetDict = {}\n",
    "for trace in os.listdir(ab1Folder):\n",
    "    if \".ab1\" in trace:\n",
    "        trace = trace\n",
    "        ab1List.append(trace)\n",
    "        keyList.append(trace.replace(\"R\", \"\").replace(\"F\", \"\").replace(\".ab1\", \"\"))\n",
    "        traceSetDict[trace] = trace.replace(\"R\", \"\").replace(\"F\", \"\").replace(\".ab1\", \"\")\n",
    "\n",
    "keyList = list(set(keyList)) \n",
    "\n",
    "for key in keyList:\n",
    "    pair = []\n",
    "    for ab1 in ab1List:\n",
    "        if key == ab1.replace(\"R\", \"\").replace(\"F\", \"\").replace(\".ab1\", \"\"):\n",
    "            pair.append(ab1)\n",
    "    ab1PairDict[key] = pair\n",
    "\n",
    "\n",
    "print(ab1PairDict)"
   ]
  },
  {
   "cell_type": "markdown",
   "metadata": {},
   "source": [
    "We now have a python dictionary with a key and a list of trace files."
   ]
  },
  {
   "cell_type": "markdown",
   "metadata": {},
   "source": [
    "### Run tracy to call bases\n",
    "\n",
    "https://github.com/gear-genomics/tracy\n",
    "\n",
    "tracy can also be used to decompose sequences, trying on a desktop PC did not work, requires more than 16 GB of ram for full chromosome 9.  It does work with just the gene of interest."
   ]
  },
  {
   "cell_type": "code",
   "execution_count": null,
   "metadata": {},
   "outputs": [],
   "source": [
    "for trace in ab1List:\n",
    "    tracy_cmd = \"./tracy basecall -f tsv -o output/{} ab1/{}\".format(trace.replace(\".ab1\", \".tsv\"), trace)\n",
    "    print(tracy_cmd)\n",
    "    #os.popen(tracy_cmd)\n",
    "    subprocess.call(tracy_cmd, shell = True)\n",
    "    \n",
    "    "
   ]
  },
  {
   "cell_type": "markdown",
   "metadata": {},
   "source": [
    "Import our results into a dataframe"
   ]
  },
  {
   "cell_type": "code",
   "execution_count": null,
   "metadata": {},
   "outputs": [],
   "source": [
    "baseDf = pd.DataFrame()\n",
    "for key in ab1PairDict:\n",
    "    print(key)\n",
    "    for ab1 in ab1PairDict[key]:\n",
    "        print(ab1)\n",
    "        \n",
    "        tmpDf = pd.read_csv('output/{}.tsv'.format(ab1.replace(\".ab1\", \"\")), delimiter= \"\\t\")\n",
    "        tmpDf['key'] = key\n",
    "        tmpDf['trace'] = ab1\n",
    "        baseDf = baseDf.append(pd.DataFrame(data = tmpDf), ignore_index=True)"
   ]
  },
  {
   "cell_type": "code",
   "execution_count": null,
   "metadata": {},
   "outputs": [],
   "source": [
    "baseDf.head()"
   ]
  },
  {
   "cell_type": "markdown",
   "metadata": {},
   "source": [
    "Remove all positions where basenum is NA"
   ]
  },
  {
   "cell_type": "code",
   "execution_count": null,
   "metadata": {},
   "outputs": [],
   "source": [
    "baseDf = baseDf[np.isfinite(baseDf['basenum'])]\n",
    "baseDf = baseDf.loc[baseDf['qual'] > 9]"
   ]
  },
  {
   "cell_type": "code",
   "execution_count": null,
   "metadata": {},
   "outputs": [],
   "source": [
    "baseDf.head()"
   ]
  },
  {
   "cell_type": "markdown",
   "metadata": {},
   "source": [
    "Plot the quality values to get an idea"
   ]
  },
  {
   "cell_type": "code",
   "execution_count": null,
   "metadata": {},
   "outputs": [],
   "source": [
    "fig=plt.figure(figsize=(12,8),dpi= 80, facecolor='w', edgecolor='k')\n",
    "\n",
    "for trace in ab1List:\n",
    "\n",
    "    plt.subplot(len(ab1List), 1, ab1List.index(trace)+1)\n",
    "    plt.tight_layout(pad=0.4, h_pad=1)\n",
    "    plotDf = baseDf.loc[baseDf['trace'] == trace]\n",
    "    plt.scatter(x = plotDf['basenum'], y = plotDf['qual'], s = 2)\n",
    "    plt.title(trace)\n",
    "plt.suptitle('Quality of traces')\n",
    "fig.subplots_adjust(top=0.88)\n",
    "plt.show()"
   ]
  },
  {
   "cell_type": "markdown",
   "metadata": {},
   "source": [
    "Explore the sanger file base on the plot above"
   ]
  },
  {
   "cell_type": "markdown",
   "metadata": {},
   "source": [
    "### Extract the primary and secondary peaks"
   ]
  },
  {
   "cell_type": "code",
   "execution_count": null,
   "metadata": {},
   "outputs": [],
   "source": [
    "primaryFasta = open(\"output/primary.fasta\", \"w\")\n",
    "for trace in ab1List:\n",
    "    primaryDf = baseDf.loc[baseDf['trace'] == trace]\n",
    "    primary = primaryDf['primary'].tolist()\n",
    "    primary = ''.join(primary)\n",
    "    print(\">{}\".format(trace))\n",
    "    print(primary)\n",
    "    primaryFasta.write(\">{}\".format(trace))\n",
    "    primaryFasta.write('\\n')\n",
    "    primaryFasta.write(primary)\n",
    "    primaryFasta.write('\\n')\n",
    "primaryFasta.close()"
   ]
  },
  {
   "cell_type": "code",
   "execution_count": null,
   "metadata": {},
   "outputs": [],
   "source": [
    "secondaryFasta = open(\"output/secondary.fasta\", \"w\")\n",
    "for trace in ab1List:\n",
    "    secondaryDf = baseDf.loc[baseDf['trace'] == trace]\n",
    "    secondary = secondaryDf['secondary'].tolist()\n",
    "    secondary = ''.join(secondary)\n",
    "    print(\">{}\".format(trace))\n",
    "    print(secondary)\n",
    "    secondaryFasta.write(\">{}\".format(trace))\n",
    "    secondaryFasta.write('\\n')\n",
    "    secondaryFasta.write(secondary)\n",
    "    secondaryFasta.write('\\n')\n",
    "secondaryFasta.close()"
   ]
  },
  {
   "cell_type": "markdown",
   "metadata": {},
   "source": [
    "### blast analysis"
   ]
  },
  {
   "cell_type": "code",
   "execution_count": null,
   "metadata": {},
   "outputs": [],
   "source": [
    "!blastn -query output/primary.fasta -db ref/ABL -outfmt 6 -max_target_seqs 1 -out output/primary.blast\n",
    "!blastn -query output/secondary.fasta -db ref/ABL -outfmt 6 -max_target_seqs 1 -out output/secondary.blast"
   ]
  },
  {
   "cell_type": "markdown",
   "metadata": {},
   "source": [
    "#### Read in the blast results"
   ]
  },
  {
   "cell_type": "code",
   "execution_count": null,
   "metadata": {},
   "outputs": [],
   "source": [
    "priDf = pd.read_csv('output/primary.blast', delimiter=\"\\t\", header=None,  usecols = [0,2,6,7,8,9])\n",
    "priDf.head(n = -1)"
   ]
  },
  {
   "cell_type": "code",
   "execution_count": null,
   "metadata": {},
   "outputs": [],
   "source": [
    "secDf = pd.read_csv('output/secondary.blast', delimiter=\"\\t\", header=None, usecols = [0, 2,6,7,8,9])\n",
    "secDf.head(n = -1)"
   ]
  },
  {
   "cell_type": "markdown",
   "metadata": {},
   "source": [
    "#### Plot the results"
   ]
  },
  {
   "cell_type": "code",
   "execution_count": null,
   "metadata": {},
   "outputs": [],
   "source": [
    "fig=plt.figure(figsize=(12,2),dpi= 80, facecolor='w', edgecolor='k')\n",
    "yPri = 1\n",
    "ySec = 2\n",
    "for index, row in priDf.iterrows():\n",
    "    #print(row[6], row[7])\n",
    "    plt.hlines(xmin=row[8], xmax=row[9], y=yPri, colors='blue')\n",
    "    yPri = yPri +0.01\n",
    "for index, row in secDf.iterrows():\n",
    "    #print(row[6], row[7])\n",
    "    plt.hlines(xmin=row[8], xmax=row[9], y=ySec, colors='red')\n",
    "    ySec = ySec +0.01\n",
    "plt.show()"
   ]
  },
  {
   "cell_type": "markdown",
   "metadata": {},
   "source": [
    "The figure above shows the blast results for the primary (blue) and secondary (red)."
   ]
  },
  {
   "cell_type": "code",
   "execution_count": null,
   "metadata": {},
   "outputs": [],
   "source": [
    "setList = []\n",
    "for index, _ in priDf.iterrows():\n",
    "    trace = priDf[0][index]\n",
    "    key = traceSetDict[trace]\n",
    "    setList.append(key)\n",
    "priDf['key'] = setList"
   ]
  },
  {
   "cell_type": "code",
   "execution_count": null,
   "metadata": {},
   "outputs": [],
   "source": [
    "setList = []\n",
    "for index, _ in secDf.iterrows():\n",
    "    trace = secDf[0][index]\n",
    "    key = traceSetDict[trace]\n",
    "    setList.append(key)\n",
    "secDf['key'] = setList"
   ]
  },
  {
   "cell_type": "code",
   "execution_count": null,
   "metadata": {},
   "outputs": [],
   "source": [
    "priDf.head(n = 100)"
   ]
  },
  {
   "cell_type": "code",
   "execution_count": null,
   "metadata": {},
   "outputs": [],
   "source": [
    "secDf.head(n = 100)\n"
   ]
  },
  {
   "cell_type": "code",
   "execution_count": null,
   "metadata": {},
   "outputs": [],
   "source": [
    "fig=plt.figure(figsize=(12,6),dpi= 80, facecolor='w', edgecolor='k')\n",
    "yPri = 1\n",
    "ySec = 2\n",
    "\n",
    "for key in keyList:\n",
    "    plt.subplot(len(keyList), 1, keyList.index(key)+1)\n",
    "    plt.tight_layout(pad=1, h_pad=3)\n",
    "    plotPriDf = priDf.loc[priDf['key'] == key]\n",
    "    plotSecDf = secDf.loc[secDf['key'] == key]\n",
    "    \n",
    "    for index, row in plotPriDf.iterrows():\n",
    "        #print(row[6], row[7])\n",
    "        plt.hlines(xmin=row[8], xmax=row[9], y=yPri, colors='blue')\n",
    "        yPri = yPri +0.04\n",
    "    \n",
    "    for index, row in plotSecDf.iterrows():\n",
    "        #print(row[6], row[7])\n",
    "        plt.hlines(xmin=row[8], xmax=row[9], y=ySec, colors='red')\n",
    "        ySec = ySec +0.04\n",
    "    plt.title(key)\n",
    "    \n",
    "plt.suptitle('Plot of BLAST results')\n",
    "fig.subplots_adjust(top=0.88)\n",
    "plt.show()"
   ]
  },
  {
   "cell_type": "code",
   "execution_count": null,
   "metadata": {
    "scrolled": false
   },
   "outputs": [],
   "source": [
    "!blastn -query output/primary.fasta -db ref/ABL -outfmt 2 \n"
   ]
  },
  {
   "cell_type": "code",
   "execution_count": null,
   "metadata": {
    "scrolled": false
   },
   "outputs": [],
   "source": [
    "!blastn -query output/secondary.fasta -db ref/ABL -outfmt 2"
   ]
  },
  {
   "cell_type": "markdown",
   "metadata": {},
   "source": [
    "### Use tracy to decompose the ab1 files against the refernce"
   ]
  },
  {
   "cell_type": "code",
   "execution_count": null,
   "metadata": {},
   "outputs": [],
   "source": [
    "!mkdir output/tracy"
   ]
  },
  {
   "cell_type": "markdown",
   "metadata": {},
   "source": [
    "#### A python loop to handle tracy's decompose function for you"
   ]
  },
  {
   "cell_type": "code",
   "execution_count": null,
   "metadata": {},
   "outputs": [],
   "source": [
    "for ab1 in ab1List:\n",
    "    tracy_decompose_cmd = \"./tracy decompose -g ref/ABL_ref.fasta -f align -o output/tracy/{} ab1/{}\".format(ab1.replace(\".ab1\", \"\"), ab1) \n",
    "    print(tracy_decompose_cmd)\n",
    "    #os.popen(tracy_decompose_cmd)\n",
    "    subprocess.call(tracy_decompose_cmd, shell = True)"
   ]
  },
  {
   "cell_type": "markdown",
   "metadata": {},
   "source": [
    "#### Your tracy decompose results will  be in output/tracy\n",
    "\n"
   ]
  },
  {
   "cell_type": "code",
   "execution_count": null,
   "metadata": {},
   "outputs": [],
   "source": [
    "!ls output/tracy/"
   ]
  },
  {
   "cell_type": "code",
   "execution_count": null,
   "metadata": {},
   "outputs": [],
   "source": []
  },
  {
   "cell_type": "code",
   "execution_count": null,
   "metadata": {},
   "outputs": [],
   "source": []
  },
  {
   "cell_type": "code",
   "execution_count": null,
   "metadata": {},
   "outputs": [],
   "source": []
  },
  {
   "cell_type": "code",
   "execution_count": null,
   "metadata": {},
   "outputs": [],
   "source": []
  },
  {
   "cell_type": "code",
   "execution_count": null,
   "metadata": {},
   "outputs": [],
   "source": []
  },
  {
   "cell_type": "code",
   "execution_count": null,
   "metadata": {},
   "outputs": [],
   "source": []
  },
  {
   "cell_type": "code",
   "execution_count": null,
   "metadata": {},
   "outputs": [],
   "source": []
  },
  {
   "cell_type": "code",
   "execution_count": null,
   "metadata": {},
   "outputs": [],
   "source": []
  }
 ],
 "metadata": {
  "kernelspec": {
   "display_name": "Python 3",
   "language": "python",
   "name": "python3"
  },
  "language_info": {
   "codemirror_mode": {
    "name": "ipython",
    "version": 2
   },
   "file_extension": ".py",
   "mimetype": "text/x-python",
   "name": "python",
   "nbconvert_exporter": "python",
   "pygments_lexer": "ipython2",
   "version": "2.7.12"
  }
 },
 "nbformat": 4,
 "nbformat_minor": 2
}
